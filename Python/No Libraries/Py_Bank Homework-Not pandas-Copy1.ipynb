{
 "cells": [
  {
   "cell_type": "code",
   "execution_count": 132,
   "metadata": {},
   "outputs": [],
   "source": [
    "import os\n",
    "import csv\n",
    "total_months = 0\n",
    "avchange = 0\n",
    "increase = 0\n",
    "decrease = 0\n",
    "totals = []\n",
    "change = []\n",
    "net_changes=[]\n",
    "dates=[]\n",
    "\n",
    "\n",
    "file = os.path.join('..','PyBank','budget_data.csv')\n",
    "\n",
    "with open(file, 'r') as csvfile:\n",
    "    reader = csv.reader(csvfile, delimiter=\",\")\n",
    "    header = next(reader)\n",
    "    \n",
    "    row = next(reader)\n",
    "    total_months += 1\n",
    "    last_value = int(row[1])\n",
    "    \n",
    "    #for loop to iterate  \n",
    "    for row in reader:\n",
    "        total_months += 1 #count of how many rows\n",
    "        months = int(row[1]) #profit loss row\n",
    "        totals.append(months) #list of months\n",
    "\n",
    "        net_change = months - last_value #calculate the net change\n",
    "        last_value = int(row[1]) #use the last value\n",
    "        \n",
    "        dates.append(row[0]) #list of dates\n",
    "        net_changes.append(net_change)\n",
    "        \n",
    "        if total_months >= increase:\n",
    "            increase = int(months)\n",
    "            name = str(dates)\n",
    "           \n",
    "        if total_months <= decrease:\n",
    "            decrease = int(row[1])\n",
    "            name = str(dates)\n",
    "           "
   ]
  },
  {
   "cell_type": "code",
   "execution_count": 133,
   "metadata": {},
   "outputs": [
    {
     "name": "stdout",
     "output_type": "stream",
     "text": [
      "-196785\n"
     ]
    }
   ],
   "source": [
    "#check to see if this is right\n",
    "print (sum(net_changes))"
   ]
  },
  {
   "cell_type": "code",
   "execution_count": 134,
   "metadata": {},
   "outputs": [
    {
     "name": "stdout",
     "output_type": "stream",
     "text": [
      "85\n"
     ]
    }
   ],
   "source": [
    "#check to see if this is right\n",
    "print (len(net_changes))"
   ]
  },
  {
   "cell_type": "code",
   "execution_count": 135,
   "metadata": {},
   "outputs": [],
   "source": [
    "avchange = sum(net_changes)/len(net_changes)"
   ]
  },
  {
   "cell_type": "code",
   "execution_count": 136,
   "metadata": {},
   "outputs": [
    {
     "name": "stdout",
     "output_type": "stream",
     "text": [
      "Financial Analysis\n",
      "-------------------------------\n",
      "Total Months: 86\n",
      "Total: $37514694\n",
      "Average Change: -2315.1176470588234\n",
      "Greatest Increase in Profits: ['Feb-2010']984655\n",
      "Greatest Decrease in Profits: ['Feb-2010']984655\n"
     ]
    }
   ],
   "source": [
    "print ('Financial Analysis')\n",
    "print ('-------------------------------')\n",
    "print (f\"Total Months: {total_months}\")\n",
    "print (\"Total: ${}\".format(sum(totals)))\n",
    "print (f\"Average Change: {avchange}\")\n",
    "print (f\"Greatest Increase in Profits: {name}{increase}\")\n",
    "print (f\"Greatest Decrease in Profits: {name}{increase}\")"
   ]
  },
  {
   "cell_type": "code",
   "execution_count": 137,
   "metadata": {},
   "outputs": [],
   "source": [
    "output_file = os.path.join(\"Results.txt\")\n",
    "\n",
    "#  Open the output file\n",
    "#with open(output_file, \"w\") as text_file:\n",
    "\n",
    "        #print (f\"Total: {}\".format(net))\n",
    "        #print (f\"Average Change: \")\n",
    "        #print (f\"Greatest Increase in Profits: \")\n",
    "        #print (f\"Greatest Decrease in Profits: \")  "
   ]
  },
  {
   "cell_type": "code",
   "execution_count": null,
   "metadata": {},
   "outputs": [],
   "source": []
  },
  {
   "cell_type": "code",
   "execution_count": null,
   "metadata": {},
   "outputs": [],
   "source": []
  },
  {
   "cell_type": "code",
   "execution_count": null,
   "metadata": {},
   "outputs": [],
   "source": []
  }
 ],
 "metadata": {
  "kernelspec": {
   "display_name": "Python 3",
   "language": "python",
   "name": "python3"
  },
  "language_info": {
   "codemirror_mode": {
    "name": "ipython",
    "version": 3
   },
   "file_extension": ".py",
   "mimetype": "text/x-python",
   "name": "python",
   "nbconvert_exporter": "python",
   "pygments_lexer": "ipython3",
   "version": "3.7.6"
  }
 },
 "nbformat": 4,
 "nbformat_minor": 4
}
